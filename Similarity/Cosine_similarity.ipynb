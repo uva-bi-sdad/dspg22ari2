{
 "cells": [
  {
   "cell_type": "code",
   "execution_count": 9,
   "metadata": {},
   "outputs": [],
   "source": [
    "import pandas as pd\n",
    "import numpy as np\n",
    "import os\n",
    "from sklearn.metrics.pairwise import cosine_similarity\n",
    "from numpy.linalg import norm"
   ]
  },
  {
   "cell_type": "code",
   "execution_count": 2,
   "metadata": {},
   "outputs": [],
   "source": [
    "gp2_gat = pd.read_csv('/home/jhj5dh/ARI/dspg22ari2/GP2_Analysis/output_vectors_GAT_GP2.csv')"
   ]
  },
  {
   "cell_type": "code",
   "execution_count": 3,
   "metadata": {},
   "outputs": [
    {
     "data": {
      "text/plain": [
       "(36, 768)"
      ]
     },
     "execution_count": 3,
     "metadata": {},
     "output_type": "execute_result"
    }
   ],
   "source": [
    "gp2_gat = gp2_gat.tail(-1)\n",
    "gp2_gat.shape"
   ]
  },
  {
   "cell_type": "code",
   "execution_count": 4,
   "metadata": {},
   "outputs": [
    {
     "name": "stdout",
     "output_type": "stream",
     "text": [
      "(18, 768)\n",
      "(18, 768)\n"
     ]
    }
   ],
   "source": [
    "no_of_docs = (gp2_gat.shape)[0]\n",
    "mid = int(no_of_docs/2)\n",
    "\n",
    "bad_performer = gp2_gat.loc[:mid]\n",
    "print(bad_performer.shape)\n",
    "\n",
    "good_performer = gp2_gat.loc[mid+1:no_of_docs]\n",
    "print(good_performer.shape)"
   ]
  },
  {
   "cell_type": "code",
   "execution_count": 5,
   "metadata": {},
   "outputs": [
    {
     "name": "stdout",
     "output_type": "stream",
     "text": [
      "38\n"
     ]
    },
    {
     "data": {
      "text/plain": [
       "'ADP_6.22_07_2019.txt'"
      ]
     },
     "execution_count": 5,
     "metadata": {},
     "output_type": "execute_result"
    }
   ],
   "source": [
    "directory_path = '/home/jhj5dh/ARI/dspg22ari2/BERT_Analysis/GAT'\n",
    "\n",
    "# list of file names in the directory\n",
    "list_of_files = os.listdir(directory_path)\n",
    "sorted_files = sorted(list_of_files)\n",
    "print(len(sorted_files))\n",
    "\n",
    "sorted_files.pop(0)\n",
    "sorted_files.pop(0)"
   ]
  },
  {
   "cell_type": "code",
   "execution_count": 6,
   "metadata": {},
   "outputs": [],
   "source": [
    "character = [ i.replace('GAT_bad_performer_','') for i in sorted_files ]\n",
    "character = character[:mid]"
   ]
  },
  {
   "cell_type": "code",
   "execution_count": 7,
   "metadata": {},
   "outputs": [
    {
     "data": {
      "text/plain": [
       "['adaptability.txt',\n",
       " 'bad_coping.txt',\n",
       " 'catastrophizing.txt',\n",
       " 'character.txt',\n",
       " 'depression.txt',\n",
       " 'family_closeness.txt',\n",
       " 'family_satisfaction.txt',\n",
       " 'family_support.txt',\n",
       " 'friendship.txt',\n",
       " 'good_coping.txt',\n",
       " 'life_meaning.txt',\n",
       " 'loneliness.txt',\n",
       " 'negative_affect.txt',\n",
       " 'non-work_interests.txt',\n",
       " 'optimism.txt',\n",
       " 'organizational_trust.txt',\n",
       " 'positive_affect.txt',\n",
       " 'work_engagement.txt']"
      ]
     },
     "execution_count": 7,
     "metadata": {},
     "output_type": "execute_result"
    }
   ],
   "source": [
    "character"
   ]
  },
  {
   "cell_type": "code",
   "execution_count": 17,
   "metadata": {},
   "outputs": [],
   "source": [
    "cos_sim = []\n",
    "for idx in range(mid):\n",
    "    #print(idx,idx+mid)\n",
    "    doc1 = gp2_gat.iloc[idx]\n",
    "    doc2 = gp2_gat.iloc[idx+mid]\n",
    "    cos = np.dot(doc1, doc2)/(norm(doc1)*norm(doc2))\n",
    "    cos_sim.append(cos)\n",
    "\n",
    "avg_sim = [ i/sum(cos_sim) for i in cos_sim]\n",
    "\n",
    "df = pd.DataFrame()\n",
    "df['Character'] = character\n",
    "df['Cosine Similarity'] = cos_sim\n",
    "df['Average Similarity'] = avg_sim"
   ]
  },
  {
   "cell_type": "code",
   "execution_count": 18,
   "metadata": {},
   "outputs": [
    {
     "data": {
      "text/html": [
       "<div>\n",
       "<style scoped>\n",
       "    .dataframe tbody tr th:only-of-type {\n",
       "        vertical-align: middle;\n",
       "    }\n",
       "\n",
       "    .dataframe tbody tr th {\n",
       "        vertical-align: top;\n",
       "    }\n",
       "\n",
       "    .dataframe thead th {\n",
       "        text-align: right;\n",
       "    }\n",
       "</style>\n",
       "<table border=\"1\" class=\"dataframe\">\n",
       "  <thead>\n",
       "    <tr style=\"text-align: right;\">\n",
       "      <th></th>\n",
       "      <th>Character</th>\n",
       "      <th>Cosine Similarity</th>\n",
       "      <th>Average Similarity</th>\n",
       "    </tr>\n",
       "  </thead>\n",
       "  <tbody>\n",
       "    <tr>\n",
       "      <th>0</th>\n",
       "      <td>adaptability.txt</td>\n",
       "      <td>1.0</td>\n",
       "      <td>0.055556</td>\n",
       "    </tr>\n",
       "    <tr>\n",
       "      <th>1</th>\n",
       "      <td>bad_coping.txt</td>\n",
       "      <td>1.0</td>\n",
       "      <td>0.055556</td>\n",
       "    </tr>\n",
       "    <tr>\n",
       "      <th>2</th>\n",
       "      <td>catastrophizing.txt</td>\n",
       "      <td>1.0</td>\n",
       "      <td>0.055556</td>\n",
       "    </tr>\n",
       "    <tr>\n",
       "      <th>3</th>\n",
       "      <td>character.txt</td>\n",
       "      <td>1.0</td>\n",
       "      <td>0.055556</td>\n",
       "    </tr>\n",
       "    <tr>\n",
       "      <th>4</th>\n",
       "      <td>depression.txt</td>\n",
       "      <td>1.0</td>\n",
       "      <td>0.055556</td>\n",
       "    </tr>\n",
       "    <tr>\n",
       "      <th>5</th>\n",
       "      <td>family_closeness.txt</td>\n",
       "      <td>1.0</td>\n",
       "      <td>0.055556</td>\n",
       "    </tr>\n",
       "    <tr>\n",
       "      <th>6</th>\n",
       "      <td>family_satisfaction.txt</td>\n",
       "      <td>1.0</td>\n",
       "      <td>0.055556</td>\n",
       "    </tr>\n",
       "    <tr>\n",
       "      <th>7</th>\n",
       "      <td>family_support.txt</td>\n",
       "      <td>1.0</td>\n",
       "      <td>0.055556</td>\n",
       "    </tr>\n",
       "    <tr>\n",
       "      <th>8</th>\n",
       "      <td>friendship.txt</td>\n",
       "      <td>1.0</td>\n",
       "      <td>0.055556</td>\n",
       "    </tr>\n",
       "    <tr>\n",
       "      <th>9</th>\n",
       "      <td>good_coping.txt</td>\n",
       "      <td>1.0</td>\n",
       "      <td>0.055556</td>\n",
       "    </tr>\n",
       "    <tr>\n",
       "      <th>10</th>\n",
       "      <td>life_meaning.txt</td>\n",
       "      <td>1.0</td>\n",
       "      <td>0.055556</td>\n",
       "    </tr>\n",
       "    <tr>\n",
       "      <th>11</th>\n",
       "      <td>loneliness.txt</td>\n",
       "      <td>1.0</td>\n",
       "      <td>0.055556</td>\n",
       "    </tr>\n",
       "    <tr>\n",
       "      <th>12</th>\n",
       "      <td>negative_affect.txt</td>\n",
       "      <td>1.0</td>\n",
       "      <td>0.055556</td>\n",
       "    </tr>\n",
       "    <tr>\n",
       "      <th>13</th>\n",
       "      <td>non-work_interests.txt</td>\n",
       "      <td>1.0</td>\n",
       "      <td>0.055556</td>\n",
       "    </tr>\n",
       "    <tr>\n",
       "      <th>14</th>\n",
       "      <td>optimism.txt</td>\n",
       "      <td>1.0</td>\n",
       "      <td>0.055556</td>\n",
       "    </tr>\n",
       "    <tr>\n",
       "      <th>15</th>\n",
       "      <td>organizational_trust.txt</td>\n",
       "      <td>1.0</td>\n",
       "      <td>0.055556</td>\n",
       "    </tr>\n",
       "    <tr>\n",
       "      <th>16</th>\n",
       "      <td>positive_affect.txt</td>\n",
       "      <td>1.0</td>\n",
       "      <td>0.055556</td>\n",
       "    </tr>\n",
       "    <tr>\n",
       "      <th>17</th>\n",
       "      <td>work_engagement.txt</td>\n",
       "      <td>1.0</td>\n",
       "      <td>0.055556</td>\n",
       "    </tr>\n",
       "  </tbody>\n",
       "</table>\n",
       "</div>"
      ],
      "text/plain": [
       "                   Character  Cosine Similarity  Average Similarity\n",
       "0           adaptability.txt                1.0            0.055556\n",
       "1             bad_coping.txt                1.0            0.055556\n",
       "2        catastrophizing.txt                1.0            0.055556\n",
       "3              character.txt                1.0            0.055556\n",
       "4             depression.txt                1.0            0.055556\n",
       "5       family_closeness.txt                1.0            0.055556\n",
       "6    family_satisfaction.txt                1.0            0.055556\n",
       "7         family_support.txt                1.0            0.055556\n",
       "8             friendship.txt                1.0            0.055556\n",
       "9            good_coping.txt                1.0            0.055556\n",
       "10          life_meaning.txt                1.0            0.055556\n",
       "11            loneliness.txt                1.0            0.055556\n",
       "12       negative_affect.txt                1.0            0.055556\n",
       "13    non-work_interests.txt                1.0            0.055556\n",
       "14              optimism.txt                1.0            0.055556\n",
       "15  organizational_trust.txt                1.0            0.055556\n",
       "16       positive_affect.txt                1.0            0.055556\n",
       "17       work_engagement.txt                1.0            0.055556"
      ]
     },
     "execution_count": 18,
     "metadata": {},
     "output_type": "execute_result"
    }
   ],
   "source": [
    "df.to_csv('Similarity.csv', index=False)"
   ]
  },
  {
   "cell_type": "code",
   "execution_count": 16,
   "metadata": {},
   "outputs": [
    {
     "data": {
      "text/plain": [
       "[0.05555555555555555,\n",
       " 0.05555555555555555,\n",
       " 0.05555555555555555,\n",
       " 0.055555555555555566,\n",
       " 0.055555555555555566,\n",
       " 0.05555555555555555,\n",
       " 0.055555555555555566,\n",
       " 0.05555555555555555,\n",
       " 0.05555555555555558,\n",
       " 0.05555555555555555,\n",
       " 0.05555555555555555,\n",
       " 0.05555555555555555,\n",
       " 0.055555555555555566,\n",
       " 0.05555555555555555,\n",
       " 0.05555555555555555,\n",
       " 0.05555555555555555,\n",
       " 0.055555555555555566,\n",
       " 0.05555555555555555]"
      ]
     },
     "execution_count": 16,
     "metadata": {},
     "output_type": "execute_result"
    }
   ],
   "source": [
    "\n",
    "avg_sim"
   ]
  },
  {
   "cell_type": "code",
   "execution_count": null,
   "metadata": {},
   "outputs": [],
   "source": []
  },
  {
   "cell_type": "code",
   "execution_count": null,
   "metadata": {},
   "outputs": [],
   "source": []
  }
 ],
 "metadata": {
  "kernelspec": {
   "display_name": "Python 3",
   "language": "python",
   "name": "python3"
  },
  "language_info": {
   "codemirror_mode": {
    "name": "ipython",
    "version": 3
   },
   "file_extension": ".py",
   "mimetype": "text/x-python",
   "name": "python",
   "nbconvert_exporter": "python",
   "pygments_lexer": "ipython3",
   "version": "3.8.8"
  }
 },
 "nbformat": 4,
 "nbformat_minor": 4
}
