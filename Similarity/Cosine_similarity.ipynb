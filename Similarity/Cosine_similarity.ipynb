{
 "cells": [
  {
   "cell_type": "code",
   "execution_count": 1,
   "metadata": {},
   "outputs": [],
   "source": [
    "import pandas as pd\n",
    "import numpy as np\n",
    "import os\n",
    "from numpy.linalg import norm"
   ]
  },
  {
   "cell_type": "code",
   "execution_count": 2,
   "metadata": {},
   "outputs": [],
   "source": [
    "gp2_gat = pd.read_csv('/home/jhj5dh/ARI/dspg22ari2/GP2_Analysis/output_vectors_GAT_GP2.csv')\n",
    "bert_gat = pd.read_csv('/home/jhj5dh/ARI/dspg22ari2/BERT_Analysis/Analysis/output_vectors_gat.csv') "
   ]
  },
  {
   "cell_type": "code",
   "execution_count": 3,
   "metadata": {},
   "outputs": [
    {
     "data": {
      "text/plain": [
       "(36, 768)"
      ]
     },
     "execution_count": 3,
     "metadata": {},
     "output_type": "execute_result"
    }
   ],
   "source": [
    "gp2_gat = gp2_gat.tail(-1)\n",
    "gp2_gat.shape"
   ]
  },
  {
   "cell_type": "code",
   "execution_count": 4,
   "metadata": {},
   "outputs": [
    {
     "name": "stdout",
     "output_type": "stream",
     "text": [
      "(18, 768)\n",
      "(18, 768)\n"
     ]
    }
   ],
   "source": [
    "no_of_docs = (gp2_gat.shape)[0]\n",
    "mid = int(no_of_docs/2)\n",
    "\n",
    "bad_performer = gp2_gat.loc[:mid]\n",
    "print(bad_performer.shape)\n",
    "\n",
    "good_performer = gp2_gat.loc[mid+1:no_of_docs]\n",
    "print(good_performer.shape)"
   ]
  },
  {
   "cell_type": "code",
   "execution_count": 5,
   "metadata": {},
   "outputs": [
    {
     "name": "stdout",
     "output_type": "stream",
     "text": [
      "38\n"
     ]
    },
    {
     "data": {
      "text/plain": [
       "'ADP_6.22_07_2019.txt'"
      ]
     },
     "execution_count": 5,
     "metadata": {},
     "output_type": "execute_result"
    }
   ],
   "source": [
    "directory_path = '/home/jhj5dh/ARI/dspg22ari2/BERT_Analysis/GAT'\n",
    "\n",
    "# list of file names in the directory\n",
    "list_of_files = os.listdir(directory_path)\n",
    "sorted_files = sorted(list_of_files)\n",
    "print(len(sorted_files))\n",
    "\n",
    "sorted_files.pop(0)\n",
    "sorted_files.pop(0)"
   ]
  },
  {
   "cell_type": "code",
   "execution_count": 6,
   "metadata": {},
   "outputs": [],
   "source": [
    "character = [ i.replace('GAT_bad_performer_','') for i in sorted_files ]\n",
    "character = character[:mid]"
   ]
  },
  {
   "cell_type": "code",
   "execution_count": 7,
   "metadata": {},
   "outputs": [
    {
     "data": {
      "text/plain": [
       "['adaptability.txt',\n",
       " 'bad_coping.txt',\n",
       " 'catastrophizing.txt',\n",
       " 'character.txt',\n",
       " 'depression.txt',\n",
       " 'family_closeness.txt',\n",
       " 'family_satisfaction.txt',\n",
       " 'family_support.txt',\n",
       " 'friendship.txt',\n",
       " 'good_coping.txt',\n",
       " 'life_meaning.txt',\n",
       " 'loneliness.txt',\n",
       " 'negative_affect.txt',\n",
       " 'non-work_interests.txt',\n",
       " 'optimism.txt',\n",
       " 'organizational_trust.txt',\n",
       " 'positive_affect.txt',\n",
       " 'work_engagement.txt']"
      ]
     },
     "execution_count": 7,
     "metadata": {},
     "output_type": "execute_result"
    }
   ],
   "source": [
    "character"
   ]
  },
  {
   "cell_type": "code",
   "execution_count": 8,
   "metadata": {},
   "outputs": [],
   "source": [
    "def cosine_similarity(df):\n",
    "    cos_sim = []\n",
    "    for idx in range(mid):\n",
    "        #print(idx,idx+mid)\n",
    "        doc1 = df.iloc[idx]\n",
    "        doc2 = df.iloc[idx+mid]\n",
    "        cos = np.dot(doc1, doc2)/(norm(doc1)*norm(doc2))\n",
    "        cos_sim.append(round(cos,2))\n",
    "\n",
    "    avg_sim = [round(i/sum(cos_sim),2) for i in cos_sim]\n",
    "\n",
    "    res = pd.DataFrame()\n",
    "    res['Character'] = character\n",
    "    res['Cosine Similarity'] = cos_sim\n",
    "    res['Average Similarity'] = avg_sim\n",
    "    return res"
   ]
  },
  {
   "cell_type": "code",
   "execution_count": 9,
   "metadata": {},
   "outputs": [],
   "source": [
    "gp2_sim = cosine_similarity(gp2_gat)\n",
    "gp2_sim.to_csv('GP2 Similarity.csv', index=False)"
   ]
  },
  {
   "cell_type": "code",
   "execution_count": 10,
   "metadata": {},
   "outputs": [],
   "source": [
    "bert_sim = cosine_similarity(bert_gat)\n",
    "bert_sim.to_csv('BERT Similarity.csv', index=False)"
   ]
  },
  {
   "cell_type": "code",
   "execution_count": null,
   "metadata": {},
   "outputs": [],
   "source": []
  },
  {
   "cell_type": "code",
   "execution_count": null,
   "metadata": {},
   "outputs": [],
   "source": [
    "round(0.0597507122978636,2)"
   ]
  },
  {
   "cell_type": "code",
   "execution_count": null,
   "metadata": {},
   "outputs": [],
   "source": []
  }
 ],
 "metadata": {
  "kernelspec": {
   "display_name": "Python 3",
   "language": "python",
   "name": "python3"
  },
  "language_info": {
   "codemirror_mode": {
    "name": "ipython",
    "version": 3
   },
   "file_extension": ".py",
   "mimetype": "text/x-python",
   "name": "python",
   "nbconvert_exporter": "python",
   "pygments_lexer": "ipython3",
   "version": "3.8.8"
  }
 },
 "nbformat": 4,
 "nbformat_minor": 4
}
